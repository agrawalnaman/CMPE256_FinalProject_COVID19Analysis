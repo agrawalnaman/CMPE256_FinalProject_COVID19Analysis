{
 "cells": [
  {
   "cell_type": "markdown",
   "metadata": {
    "colab_type": "text",
    "id": "TMlKEFYBAso8"
   },
   "source": [
    "# COVID-19 Positive Analysis"
   ]
  },
  {
   "cell_type": "markdown",
   "metadata": {
    "colab_type": "text",
    "id": "mtTdeixOAz_h"
   },
   "source": [
    "## Importing required libraries\n",
    "\n",
    "matplotlib and seaborn libraries are used for plotting graphs"
   ]
  },
  {
   "cell_type": "code",
   "execution_count": 334,
   "metadata": {
    "colab": {
     "base_uri": "https://localhost:8080/",
     "height": 126
    },
    "colab_type": "code",
    "id": "pYio5E51-E81",
    "outputId": "a5403558-06ac-4199-aa2b-77ba2cbc417b"
   },
   "outputs": [],
   "source": [
    "import pandas as pd\n",
    "import numpy as np\n",
    "import matplotlib.pyplot as plt\n",
    "import matplotlib.dates as mdates\n",
    "from datetime import datetime\n",
    "import calendar\n",
    "import seaborn as sns\n",
    "import warnings\n",
    "warnings.filterwarnings('ignore')"
   ]
  },
  {
   "cell_type": "markdown",
   "metadata": {},
   "source": [
    "## Data Loading\n",
    "\n",
    "Data from various sources will be loaded into individual dataframes before concatenating into one"
   ]
  },
  {
   "cell_type": "code",
   "execution_count": 335,
   "metadata": {},
   "outputs": [
    {
     "data": {
      "text/html": [
       "<div>\n",
       "<style scoped>\n",
       "    .dataframe tbody tr th:only-of-type {\n",
       "        vertical-align: middle;\n",
       "    }\n",
       "\n",
       "    .dataframe tbody tr th {\n",
       "        vertical-align: top;\n",
       "    }\n",
       "\n",
       "    .dataframe thead th {\n",
       "        text-align: right;\n",
       "    }\n",
       "</style>\n",
       "<table border=\"1\" class=\"dataframe\">\n",
       "  <thead>\n",
       "    <tr style=\"text-align: right;\">\n",
       "      <th></th>\n",
       "      <th>date</th>\n",
       "      <th>pm25</th>\n",
       "      <th>pm10</th>\n",
       "      <th>o3</th>\n",
       "      <th>no2</th>\n",
       "      <th>so2</th>\n",
       "      <th>co</th>\n",
       "      <th>city</th>\n",
       "    </tr>\n",
       "  </thead>\n",
       "  <tbody>\n",
       "    <tr>\n",
       "      <th>0</th>\n",
       "      <td>2020/4/2</td>\n",
       "      <td>65</td>\n",
       "      <td>25</td>\n",
       "      <td>31</td>\n",
       "      <td>23</td>\n",
       "      <td></td>\n",
       "      <td></td>\n",
       "      <td>Paris</td>\n",
       "    </tr>\n",
       "    <tr>\n",
       "      <th>1</th>\n",
       "      <td>2020/4/3</td>\n",
       "      <td>61</td>\n",
       "      <td>26</td>\n",
       "      <td>28</td>\n",
       "      <td>26</td>\n",
       "      <td></td>\n",
       "      <td></td>\n",
       "      <td>Paris</td>\n",
       "    </tr>\n",
       "    <tr>\n",
       "      <th>2</th>\n",
       "      <td>2020/4/4</td>\n",
       "      <td>53</td>\n",
       "      <td>26</td>\n",
       "      <td>37</td>\n",
       "      <td>22</td>\n",
       "      <td></td>\n",
       "      <td></td>\n",
       "      <td>Paris</td>\n",
       "    </tr>\n",
       "    <tr>\n",
       "      <th>3</th>\n",
       "      <td>2020/4/5</td>\n",
       "      <td>60</td>\n",
       "      <td>19</td>\n",
       "      <td>39</td>\n",
       "      <td>16</td>\n",
       "      <td></td>\n",
       "      <td></td>\n",
       "      <td>Paris</td>\n",
       "    </tr>\n",
       "    <tr>\n",
       "      <th>4</th>\n",
       "      <td>2020/4/6</td>\n",
       "      <td>50</td>\n",
       "      <td>22</td>\n",
       "      <td>32</td>\n",
       "      <td>14</td>\n",
       "      <td></td>\n",
       "      <td></td>\n",
       "      <td>Paris</td>\n",
       "    </tr>\n",
       "  </tbody>\n",
       "</table>\n",
       "</div>"
      ],
      "text/plain": [
       "       date  pm25  pm10   o3  no2  so2  co   city\n",
       "0  2020/4/2    65    25   31   23           Paris\n",
       "1  2020/4/3    61    26   28   26           Paris\n",
       "2  2020/4/4    53    26   37   22           Paris\n",
       "3  2020/4/5    60    19   39   16           Paris\n",
       "4  2020/4/6    50    22   32   14           Paris"
      ]
     },
     "execution_count": 335,
     "metadata": {},
     "output_type": "execute_result"
    }
   ],
   "source": [
    "\"\"\"Read training data from train.csv into the dataframe\"\"\"\n",
    "df_paris  = pd.read_csv('paris-air-quality.csv')\n",
    "df_paris['city'] = 'Paris'\n",
    "df_wuhan  = pd.read_csv('wuhan-air-quality.csv')\n",
    "df_wuhan['city'] = 'Wuhan'\n",
    "df_seoul  = pd.read_csv('seoul-air-quality.csv')\n",
    "df_seoul['city'] = 'Seoul'\n",
    "df_ny  = pd.read_csv('new-york-air-quality.csv')\n",
    "df_ny['city'] = 'NewYork'\n",
    "df_delhi  = pd.read_csv('alipur,-delhi, delhi, india-air-quality.csv')\n",
    "df_delhi['city'] = 'Delhi'\n",
    "df_la = pd.read_csv('los-angeles-north main street-air-quality.csv')\n",
    "df_la['city'] = 'LosAngeles'\n",
    "df_hk = pd.read_csv('hong-kong-air-quality.csv')\n",
    "df_hk['city'] = 'HongKong'\n",
    "df_beijing = pd.read_csv('beijing-air-quality.csv')\n",
    "df_beijing['city'] = 'Beijing'\n",
    "df = pd.concat([df_paris,df_wuhan,df_seoul,df_ny,df_delhi,df_la,df_hk,df_beijing],sort=False)\n",
    "df.head()"
   ]
  },
  {
   "cell_type": "code",
   "execution_count": 336,
   "metadata": {},
   "outputs": [
    {
     "data": {
      "text/plain": [
       "(16318, 8)"
      ]
     },
     "execution_count": 336,
     "metadata": {},
     "output_type": "execute_result"
    }
   ],
   "source": [
    "df.shape"
   ]
  },
  {
   "cell_type": "code",
   "execution_count": 337,
   "metadata": {},
   "outputs": [],
   "source": [
    "\"\"\"Remove whitespaces from the column names\"\"\"\n",
    "df.columns = df.columns.str.strip()"
   ]
  },
  {
   "cell_type": "code",
   "execution_count": 338,
   "metadata": {},
   "outputs": [
    {
     "data": {
      "text/plain": [
       "array(['Paris', 'Wuhan', 'Seoul', 'NewYork', 'Delhi', 'LosAngeles',\n",
       "       'HongKong', 'Beijing'], dtype=object)"
      ]
     },
     "execution_count": 338,
     "metadata": {},
     "output_type": "execute_result"
    }
   ],
   "source": [
    "\"\"\"Replace blanks with np.NAN and drops all NAs\"\"\"\n",
    "df['pm25'].replace(' ', np.nan, inplace=True)\n",
    "df = df[df['pm25'].notna()]\n",
    "\n",
    "\"\"\"Convert the column pm25 as integer\"\"\"\n",
    "df['pm25'] = df['pm25'].astype(int)\n",
    "pm25=df[['date','pm25','city']]\n",
    "#pm25.shape\n",
    "pm25['city'].unique()"
   ]
  },
  {
   "cell_type": "code",
   "execution_count": 339,
   "metadata": {},
   "outputs": [
    {
     "data": {
      "text/plain": [
       "array(['Paris', 'Wuhan', 'Seoul', 'NewYork', 'Delhi', 'LosAngeles',\n",
       "       'HongKong', 'Beijing'], dtype=object)"
      ]
     },
     "execution_count": 339,
     "metadata": {},
     "output_type": "execute_result"
    }
   ],
   "source": [
    "\"\"\"For CO\"\"\"\n",
    "df['co'].replace(' ', np.nan, inplace=True)\n",
    "df = df[df['co'].notna()]\n",
    "\n",
    "\"\"\"Convert the column co as integer\"\"\"\n",
    "df['co'] = df['co'].astype(int)\n",
    "co=df[['date','co','city']]\n",
    "#pm25.shape\n",
    "co['city'].unique()"
   ]
  },
  {
   "cell_type": "markdown",
   "metadata": {},
   "source": [
    "# Filter data starting from a date"
   ]
  },
  {
   "cell_type": "code",
   "execution_count": 340,
   "metadata": {},
   "outputs": [
    {
     "data": {
      "text/plain": [
       "(6384, 3)"
      ]
     },
     "execution_count": 340,
     "metadata": {},
     "output_type": "execute_result"
    }
   ],
   "source": [
    "start_date = '2018/01/01'\n",
    "pm25['date']= pd.to_datetime(pm25['date'], format='%Y-%m-%d')\n",
    "range= (pm25['date'] > start_date)\n",
    "pm25_range=pm25.loc[range]\n",
    "pm25_range.shape"
   ]
  },
  {
   "cell_type": "code",
   "execution_count": 341,
   "metadata": {},
   "outputs": [],
   "source": [
    "pm25_range['year']= pm25_range['date'].map(lambda x : x.year)"
   ]
  },
  {
   "cell_type": "markdown",
   "metadata": {},
   "source": [
    "# Plotting city wise based on different lockdown period"
   ]
  },
  {
   "cell_type": "code",
   "execution_count": 342,
   "metadata": {},
   "outputs": [
    {
     "data": {
      "text/html": [
       "<div>\n",
       "<style scoped>\n",
       "    .dataframe tbody tr th:only-of-type {\n",
       "        vertical-align: middle;\n",
       "    }\n",
       "\n",
       "    .dataframe tbody tr th {\n",
       "        vertical-align: top;\n",
       "    }\n",
       "\n",
       "    .dataframe thead th {\n",
       "        text-align: right;\n",
       "    }\n",
       "</style>\n",
       "<table border=\"1\" class=\"dataframe\">\n",
       "  <thead>\n",
       "    <tr style=\"text-align: right;\">\n",
       "      <th></th>\n",
       "      <th>date</th>\n",
       "      <th>pm25</th>\n",
       "      <th>city</th>\n",
       "      <th>year</th>\n",
       "    </tr>\n",
       "  </thead>\n",
       "  <tbody>\n",
       "    <tr>\n",
       "      <th>0</th>\n",
       "      <td>2020-04-02</td>\n",
       "      <td>65</td>\n",
       "      <td>Paris</td>\n",
       "      <td>2020</td>\n",
       "    </tr>\n",
       "    <tr>\n",
       "      <th>1</th>\n",
       "      <td>2020-04-03</td>\n",
       "      <td>61</td>\n",
       "      <td>Paris</td>\n",
       "      <td>2020</td>\n",
       "    </tr>\n",
       "    <tr>\n",
       "      <th>2</th>\n",
       "      <td>2020-04-04</td>\n",
       "      <td>53</td>\n",
       "      <td>Paris</td>\n",
       "      <td>2020</td>\n",
       "    </tr>\n",
       "    <tr>\n",
       "      <th>3</th>\n",
       "      <td>2020-04-05</td>\n",
       "      <td>60</td>\n",
       "      <td>Paris</td>\n",
       "      <td>2020</td>\n",
       "    </tr>\n",
       "    <tr>\n",
       "      <th>4</th>\n",
       "      <td>2020-04-06</td>\n",
       "      <td>50</td>\n",
       "      <td>Paris</td>\n",
       "      <td>2020</td>\n",
       "    </tr>\n",
       "  </tbody>\n",
       "</table>\n",
       "</div>"
      ],
      "text/plain": [
       "        date  pm25   city  year\n",
       "0 2020-04-02    65  Paris  2020\n",
       "1 2020-04-03    61  Paris  2020\n",
       "2 2020-04-04    53  Paris  2020\n",
       "3 2020-04-05    60  Paris  2020\n",
       "4 2020-04-06    50  Paris  2020"
      ]
     },
     "execution_count": 342,
     "metadata": {},
     "output_type": "execute_result"
    }
   ],
   "source": [
    "pm25_range.head()"
   ]
  },
  {
   "cell_type": "code",
   "execution_count": 343,
   "metadata": {},
   "outputs": [
    {
     "data": {
      "text/plain": [
       "array(['Paris', 'Wuhan', 'Seoul', 'NewYork', 'Delhi', 'LosAngeles',\n",
       "       'HongKong', 'Beijing'], dtype=object)"
      ]
     },
     "execution_count": 343,
     "metadata": {},
     "output_type": "execute_result"
    }
   ],
   "source": [
    "city_range= ((pm25_range['date'] >= '2018/02/26') & (pm25_range['date'] <= '2018/03/18')) | ((pm25_range['date'] >= '2019/02/26') & (pm25_range['date'] <= '2019/03/18')) | ((pm25_range['date'] >= '2020/02/26') & (pm25_range['date'] <= '2020/03/18'))\n",
    "pm25_lockdown=pm25_range.loc[city_range]\n",
    "pm25_lockdown['city'].unique()"
   ]
  },
  {
   "cell_type": "code",
   "execution_count": 344,
   "metadata": {},
   "outputs": [],
   "source": [
    "pm25_lockdown['year']= pm25_lockdown['date'].map(lambda x : x.year)"
   ]
  },
  {
   "cell_type": "code",
   "execution_count": 345,
   "metadata": {},
   "outputs": [
    {
     "data": {
      "text/html": [
       "<div>\n",
       "<style scoped>\n",
       "    .dataframe tbody tr th:only-of-type {\n",
       "        vertical-align: middle;\n",
       "    }\n",
       "\n",
       "    .dataframe tbody tr th {\n",
       "        vertical-align: top;\n",
       "    }\n",
       "\n",
       "    .dataframe thead th {\n",
       "        text-align: right;\n",
       "    }\n",
       "</style>\n",
       "<table border=\"1\" class=\"dataframe\">\n",
       "  <thead>\n",
       "    <tr style=\"text-align: right;\">\n",
       "      <th></th>\n",
       "      <th>date</th>\n",
       "      <th>pm25</th>\n",
       "      <th>city</th>\n",
       "      <th>year</th>\n",
       "    </tr>\n",
       "  </thead>\n",
       "  <tbody>\n",
       "    <tr>\n",
       "      <th>26</th>\n",
       "      <td>2020-03-02</td>\n",
       "      <td>41</td>\n",
       "      <td>Paris</td>\n",
       "      <td>2020</td>\n",
       "    </tr>\n",
       "    <tr>\n",
       "      <th>27</th>\n",
       "      <td>2020-03-03</td>\n",
       "      <td>43</td>\n",
       "      <td>Paris</td>\n",
       "      <td>2020</td>\n",
       "    </tr>\n",
       "    <tr>\n",
       "      <th>28</th>\n",
       "      <td>2020-03-04</td>\n",
       "      <td>53</td>\n",
       "      <td>Paris</td>\n",
       "      <td>2020</td>\n",
       "    </tr>\n",
       "    <tr>\n",
       "      <th>29</th>\n",
       "      <td>2020-03-05</td>\n",
       "      <td>45</td>\n",
       "      <td>Paris</td>\n",
       "      <td>2020</td>\n",
       "    </tr>\n",
       "    <tr>\n",
       "      <th>30</th>\n",
       "      <td>2020-03-06</td>\n",
       "      <td>39</td>\n",
       "      <td>Paris</td>\n",
       "      <td>2020</td>\n",
       "    </tr>\n",
       "  </tbody>\n",
       "</table>\n",
       "</div>"
      ],
      "text/plain": [
       "         date  pm25   city  year\n",
       "26 2020-03-02    41  Paris  2020\n",
       "27 2020-03-03    43  Paris  2020\n",
       "28 2020-03-04    53  Paris  2020\n",
       "29 2020-03-05    45  Paris  2020\n",
       "30 2020-03-06    39  Paris  2020"
      ]
     },
     "execution_count": 345,
     "metadata": {},
     "output_type": "execute_result"
    }
   ],
   "source": [
    "pm25_lockdown.head()"
   ]
  },
  {
   "cell_type": "code",
   "execution_count": 346,
   "metadata": {},
   "outputs": [
    {
     "data": {
      "text/html": [
       "<div>\n",
       "<style scoped>\n",
       "    .dataframe tbody tr th:only-of-type {\n",
       "        vertical-align: middle;\n",
       "    }\n",
       "\n",
       "    .dataframe tbody tr th {\n",
       "        vertical-align: top;\n",
       "    }\n",
       "\n",
       "    .dataframe thead th {\n",
       "        text-align: right;\n",
       "    }\n",
       "</style>\n",
       "<table border=\"1\" class=\"dataframe\">\n",
       "  <thead>\n",
       "    <tr style=\"text-align: right;\">\n",
       "      <th></th>\n",
       "      <th>year</th>\n",
       "      <th>city</th>\n",
       "      <th>Avg</th>\n",
       "    </tr>\n",
       "  </thead>\n",
       "  <tbody>\n",
       "    <tr>\n",
       "      <th>0</th>\n",
       "      <td>2018</td>\n",
       "      <td>Beijing</td>\n",
       "      <td>154.666667</td>\n",
       "    </tr>\n",
       "    <tr>\n",
       "      <th>1</th>\n",
       "      <td>2018</td>\n",
       "      <td>HongKong</td>\n",
       "      <td>85.952381</td>\n",
       "    </tr>\n",
       "    <tr>\n",
       "      <th>2</th>\n",
       "      <td>2018</td>\n",
       "      <td>LosAngeles</td>\n",
       "      <td>39.571429</td>\n",
       "    </tr>\n",
       "    <tr>\n",
       "      <th>3</th>\n",
       "      <td>2018</td>\n",
       "      <td>NewYork</td>\n",
       "      <td>31.523810</td>\n",
       "    </tr>\n",
       "    <tr>\n",
       "      <th>4</th>\n",
       "      <td>2018</td>\n",
       "      <td>Paris</td>\n",
       "      <td>66.809524</td>\n",
       "    </tr>\n",
       "  </tbody>\n",
       "</table>\n",
       "</div>"
      ],
      "text/plain": [
       "   year        city         Avg\n",
       "0  2018     Beijing  154.666667\n",
       "1  2018    HongKong   85.952381\n",
       "2  2018  LosAngeles   39.571429\n",
       "3  2018     NewYork   31.523810\n",
       "4  2018       Paris   66.809524"
      ]
     },
     "execution_count": 346,
     "metadata": {},
     "output_type": "execute_result"
    }
   ],
   "source": [
    "pm25_lockdown_grpby_yr = pm25_lockdown.groupby(['year','city'])['pm25'].mean().reset_index(name='Avg')\n",
    "pm25_lockdown_grpby_yr.head()"
   ]
  },
  {
   "cell_type": "code",
   "execution_count": 347,
   "metadata": {},
   "outputs": [
    {
     "data": {
      "image/png": "[encoded data removed]",
      "text/plain": [
       "<Figure size 1080x432 with 1 Axes>"
      ]
     },
     "metadata": {},
     "output_type": "display_data"
    }
   ],
   "source": [
    "pm25_lockdown_citywise = pd.melt(pm25_lockdown_grpby_yr,id_vars=['city', 'year'], var_name='pollutant')\n",
    "sns.set()\n",
    "plt.figure(figsize=(15,6))\n",
    "plt.title('Average PM2.5 Level during lockdown (2018-2020)')\n",
    "sns.lineplot(x='year', \n",
    "             y='value',\n",
    "             hue='city',\n",
    "             size=\"city\",\n",
    "             data=pm25_lockdown_citywise)\n",
    "plt.xlabel('Year')\n",
    "plt.ylabel('PM2.5 Level (µg/m3)')\n",
    "plt.xticks(np.arange(min(pm25_lockdown_citywise['year']), max(pm25_lockdown_citywise['year'])+1, 1.0))\n",
    "plt.legend(bbox_to_anchor=(1.05, 1), loc=2, borderaxespad=0.)\n",
    "plt.show()"
   ]
  },
  {
   "cell_type": "markdown",
   "metadata": {},
   "source": [
    "## Calculate average based on year and month "
   ]
  },
  {
   "cell_type": "code",
   "execution_count": 348,
   "metadata": {},
   "outputs": [
    {
     "data": {
      "text/html": [
       "<div>\n",
       "<style scoped>\n",
       "    .dataframe tbody tr th:only-of-type {\n",
       "        vertical-align: middle;\n",
       "    }\n",
       "\n",
       "    .dataframe tbody tr th {\n",
       "        vertical-align: top;\n",
       "    }\n",
       "\n",
       "    .dataframe thead th {\n",
       "        text-align: right;\n",
       "    }\n",
       "</style>\n",
       "<table border=\"1\" class=\"dataframe\">\n",
       "  <thead>\n",
       "    <tr style=\"text-align: right;\">\n",
       "      <th></th>\n",
       "      <th>month</th>\n",
       "      <th>year</th>\n",
       "      <th>Avg</th>\n",
       "    </tr>\n",
       "  </thead>\n",
       "  <tbody>\n",
       "    <tr>\n",
       "      <th>0</th>\n",
       "      <td>1</td>\n",
       "      <td>2018</td>\n",
       "      <td>81.466667</td>\n",
       "    </tr>\n",
       "    <tr>\n",
       "      <th>1</th>\n",
       "      <td>1</td>\n",
       "      <td>2019</td>\n",
       "      <td>119.600000</td>\n",
       "    </tr>\n",
       "    <tr>\n",
       "      <th>2</th>\n",
       "      <td>1</td>\n",
       "      <td>2020</td>\n",
       "      <td>128.766667</td>\n",
       "    </tr>\n",
       "    <tr>\n",
       "      <th>3</th>\n",
       "      <td>2</td>\n",
       "      <td>2018</td>\n",
       "      <td>100.214286</td>\n",
       "    </tr>\n",
       "    <tr>\n",
       "      <th>4</th>\n",
       "      <td>2</td>\n",
       "      <td>2019</td>\n",
       "      <td>116.178571</td>\n",
       "    </tr>\n",
       "  </tbody>\n",
       "</table>\n",
       "</div>"
      ],
      "text/plain": [
       "   month  year         Avg\n",
       "0      1  2018   81.466667\n",
       "1      1  2019  119.600000\n",
       "2      1  2020  128.766667\n",
       "3      2  2018  100.214286\n",
       "4      2  2019  116.178571"
      ]
     },
     "execution_count": 348,
     "metadata": {},
     "output_type": "execute_result"
    }
   ],
   "source": [
    "pm25_range['month']= pm25_range['date'].map(lambda x : x.month)\n",
    "pm25_range_city = pm25_range[pm25_range['city'] == 'Beijing']\n",
    "pm25_grpby_yr_mnth = pm25_range_city.groupby(['month','year'])['pm25'].mean().reset_index(name='Avg')\n",
    "pm25_grpby_yr_mnth = pm25_grpby_yr_mnth[pm25_grpby_yr_mnth['month'] < 5]\n",
    "pm25_grpby_yr_mnth.head()"
   ]
  },
  {
   "cell_type": "markdown",
   "metadata": {},
   "source": [
    "# Average Bar Plot for each year for first four months"
   ]
  },
  {
   "cell_type": "code",
   "execution_count": 349,
   "metadata": {},
   "outputs": [
    {
     "data": {
      "image/png": "[encoded data removed]",
      "text/plain": [
       "<Figure size 360x432 with 1 Axes>"
      ]
     },
     "metadata": {},
     "output_type": "display_data"
    }
   ],
   "source": [
    "\"\"\"For Wuhan\"\"\"\n",
    "pm25_mnth_yearwise = pd.melt(pm25_grpby_yr_mnth,id_vars=['month', 'year'], var_name='pollutant')\n",
    "sns.set()\n",
    "plt.figure(figsize=(5,6))\n",
    "plt.title('Beijing: PM2.5 Pollutant Level Jan-Apr (2018-2020)')\n",
    "sns.barplot(x='month', \n",
    "             y='value',\n",
    "             hue='year',\n",
    "             palette = ['r','b','g'],\n",
    "             data=pm25_mnth_yearwise)\n",
    "plt.xlabel('Month')\n",
    "plt.ylabel('PM2.5 Level (µg/m3)')\n",
    "plt.ylim(60)\n",
    "plt.show()"
   ]
  },
  {
   "cell_type": "markdown",
   "metadata": {},
   "source": [
    "# Average Bar Plot for year 2020"
   ]
  },
  {
   "cell_type": "code",
   "execution_count": 350,
   "metadata": {},
   "outputs": [
    {
     "data": {
      "image/png": "[encoded data removed]",
      "text/plain": [
       "<Figure size 360x432 with 1 Axes>"
      ]
     },
     "metadata": {},
     "output_type": "display_data"
    }
   ],
   "source": [
    "\"\"\"For Wuhan\"\"\"\n",
    "pm25_2020_city = pm25_range[pm25_range['city'] == 'Beijing']\n",
    "pm25_2020 = pm25_2020_city.groupby(['month','year'])['pm25'].mean().reset_index(name='Avg')\n",
    "pm25_2020 = pm25_2020[pm25_2020['year']== 2020]\n",
    "sns.set()\n",
    "plt.figure(figsize=(5,6))\n",
    "plt.title('Beijing: PM2.5 Pollutant Level(Jan 2020- Apr 2020)')\n",
    "plt.axvspan(1.5,4, alpha=0.5, color='bisque', label='Lockdown period')\n",
    "sns.barplot(x='month', \n",
    "             y='Avg',\n",
    "             data=pm25_2020)\n",
    "plt.xlabel('Month')\n",
    "plt.ylabel('PM2.5 Level (µg/m3)')\n",
    "plt.ylim(80)\n",
    "plt.show()"
   ]
  },
  {
   "cell_type": "markdown",
   "metadata": {},
   "source": [
    "# Year Data Plotting for selected month in df=pm25_range"
   ]
  },
  {
   "cell_type": "code",
   "execution_count": 351,
   "metadata": {},
   "outputs": [
    {
     "data": {
      "text/html": [
       "<div>\n",
       "<style scoped>\n",
       "    .dataframe tbody tr th:only-of-type {\n",
       "        vertical-align: middle;\n",
       "    }\n",
       "\n",
       "    .dataframe tbody tr th {\n",
       "        vertical-align: top;\n",
       "    }\n",
       "\n",
       "    .dataframe thead th {\n",
       "        text-align: right;\n",
       "    }\n",
       "</style>\n",
       "<table border=\"1\" class=\"dataframe\">\n",
       "  <thead>\n",
       "    <tr style=\"text-align: right;\">\n",
       "      <th></th>\n",
       "      <th>pm25</th>\n",
       "      <th>year</th>\n",
       "      <th>day</th>\n",
       "    </tr>\n",
       "  </thead>\n",
       "  <tbody>\n",
       "    <tr>\n",
       "      <th>0</th>\n",
       "      <td>98</td>\n",
       "      <td>2020</td>\n",
       "      <td>2</td>\n",
       "    </tr>\n",
       "    <tr>\n",
       "      <th>1</th>\n",
       "      <td>77</td>\n",
       "      <td>2020</td>\n",
       "      <td>3</td>\n",
       "    </tr>\n",
       "    <tr>\n",
       "      <th>2</th>\n",
       "      <td>80</td>\n",
       "      <td>2020</td>\n",
       "      <td>4</td>\n",
       "    </tr>\n",
       "    <tr>\n",
       "      <th>3</th>\n",
       "      <td>107</td>\n",
       "      <td>2020</td>\n",
       "      <td>5</td>\n",
       "    </tr>\n",
       "    <tr>\n",
       "      <th>4</th>\n",
       "      <td>132</td>\n",
       "      <td>2020</td>\n",
       "      <td>6</td>\n",
       "    </tr>\n",
       "  </tbody>\n",
       "</table>\n",
       "</div>"
      ],
      "text/plain": [
       "   pm25  year  day\n",
       "0    98  2020    2\n",
       "1    77  2020    3\n",
       "2    80  2020    4\n",
       "3   107  2020    5\n",
       "4   132  2020    6"
      ]
     },
     "execution_count": 351,
     "metadata": {},
     "output_type": "execute_result"
    }
   ],
   "source": [
    "\"\"\"For Wuhan\"\"\"\n",
    "pm25_range_city=pm25_range[pm25_range['city'] == 'Delhi']\n",
    "pm25_range_city['day']= pm25_range_city['date'].map(lambda x : x.day)\n",
    "pm25_range_city = pm25_range_city[pm25_range_city['date'].dt.month.isin([4])]\n",
    "pm25_range_city=pm25_range_city[['pm25','year','day']]\n",
    "pm25_range_city.head()"
   ]
  },
  {
   "cell_type": "code",
   "execution_count": 352,
   "metadata": {},
   "outputs": [
    {
     "data": {
      "image/png": "[encoded data removed]",
      "text/plain": [
       "<Figure size 1152x432 with 1 Axes>"
      ]
     },
     "metadata": {},
     "output_type": "display_data"
    }
   ],
   "source": [
    "\"\"\"Wuhan\"\"\"\n",
    "pm25_yearwise = pd.melt(pm25_range_city,id_vars=['day', 'year'], var_name='pollutant')\n",
    "sns.set()\n",
    "plt.figure(figsize=(16,6))\n",
    "plt.title('New Delhi: PM2.5 Level(APR 2020)')\n",
    "sns.lineplot(x='day', \n",
    "             y='value',\n",
    "             hue='year',\n",
    "             palette=['r','g'],\n",
    "             size=\"year\",\n",
    "             data=pm25_yearwise)\n",
    "plt.xlabel('Day')\n",
    "plt.ylabel('PM2.5 Level (µg/m3)')\n",
    "plt.show()"
   ]
  },
  {
   "cell_type": "markdown",
   "metadata": {},
   "source": [
    "# Bar plotting of lockdown duration citywise"
   ]
  },
  {
   "cell_type": "code",
   "execution_count": 353,
   "metadata": {},
   "outputs": [
    {
     "data": {
      "image/png": "[encoded data removed]",
      "text/plain": [
       "<Figure size 2160x504 with 1 Axes>"
      ]
     },
     "metadata": {},
     "output_type": "display_data"
    }
   ],
   "source": [
    "\"\"\"Significant difference visible in Delhi, LosAngeles, Beijing\"\"\"\n",
    "crit = (pm25_range['year']== 2020) & (pm25_range['city'] == 'NewYork') & (pm25_range['date'] >= '2020/2/25') & (pm25_range['date'] <= '2020/4/25')\n",
    "pm25_city_2020 = pm25_range.loc[crit]\n",
    "pm25_city_2020.sort_values(by=['date'],inplace=True)\n",
    "pm25_city_2020['date'] = pm25_city_2020['date'].map(lambda x: x.strftime('%d %b'))\n",
    "plt.figure(figsize=(30,7))\n",
    "plt.title('New York: PM2.5 Pollutant Level Lockdown Analysis')\n",
    "plt.axvspan(22,200, alpha=0.5, color='pink', label='Lockdown period')\n",
    "sns.barplot(x='date', \n",
    "             y='pm25',\n",
    "            palette = ['r'],\n",
    "             data=pm25_city_2020)\n",
    "plt.xlabel('Month')\n",
    "plt.ylabel('PM2.5 Level (µg/m3)')\n",
    "plt.xticks(rotation = 90)\n",
    "plt.ylim(10)\n",
    "plt.show()"
   ]
  },
  {
   "cell_type": "markdown",
   "metadata": {},
   "source": [
    "# Read AirTraffic Data"
   ]
  },
  {
   "cell_type": "code",
   "execution_count": 406,
   "metadata": {},
   "outputs": [
    {
     "data": {
      "text/html": [
       "<div>\n",
       "<style scoped>\n",
       "    .dataframe tbody tr th:only-of-type {\n",
       "        vertical-align: middle;\n",
       "    }\n",
       "\n",
       "    .dataframe tbody tr th {\n",
       "        vertical-align: top;\n",
       "    }\n",
       "\n",
       "    .dataframe thead th {\n",
       "        text-align: right;\n",
       "    }\n",
       "</style>\n",
       "<table border=\"1\" class=\"dataframe\">\n",
       "  <thead>\n",
       "    <tr style=\"text-align: right;\">\n",
       "      <th></th>\n",
       "      <th>Countries</th>\n",
       "      <th>2020-01-06 00:00:00</th>\n",
       "      <th>2020-01-13 00:00:00</th>\n",
       "      <th>2020-01-20 00:00:00</th>\n",
       "      <th>2020-01-27 00:00:00</th>\n",
       "      <th>2020-02-03 00:00:00</th>\n",
       "      <th>2020-02-10 00:00:00</th>\n",
       "      <th>2020-02-17 00:00:00</th>\n",
       "      <th>2020-02-24 00:00:00</th>\n",
       "      <th>2020-03-02 00:00:00</th>\n",
       "      <th>2020-03-09 00:00:00</th>\n",
       "      <th>2020-03-16 00:00:00</th>\n",
       "      <th>2020-03-23 00:00:00</th>\n",
       "      <th>2020-03-30 00:00:00</th>\n",
       "      <th>2020-04-06 00:00:00</th>\n",
       "      <th>2020-04-13 00:00:00</th>\n",
       "    </tr>\n",
       "  </thead>\n",
       "  <tbody>\n",
       "    <tr>\n",
       "      <th>0</th>\n",
       "      <td>ALL</td>\n",
       "      <td>814625</td>\n",
       "      <td>806924</td>\n",
       "      <td>806505</td>\n",
       "      <td>805881</td>\n",
       "      <td>775141</td>\n",
       "      <td>732120</td>\n",
       "      <td>728408</td>\n",
       "      <td>734927</td>\n",
       "      <td>756880</td>\n",
       "      <td>743169</td>\n",
       "      <td>720239</td>\n",
       "      <td>584116</td>\n",
       "      <td>437769</td>\n",
       "      <td>343431</td>\n",
       "      <td>299729</td>\n",
       "    </tr>\n",
       "    <tr>\n",
       "      <th>1</th>\n",
       "      <td>Spain</td>\n",
       "      <td>14763</td>\n",
       "      <td>13842</td>\n",
       "      <td>13830</td>\n",
       "      <td>13946</td>\n",
       "      <td>14260</td>\n",
       "      <td>14795</td>\n",
       "      <td>15486</td>\n",
       "      <td>15604</td>\n",
       "      <td>15673</td>\n",
       "      <td>15386</td>\n",
       "      <td>13647</td>\n",
       "      <td>4111</td>\n",
       "      <td>2124</td>\n",
       "      <td>1408</td>\n",
       "      <td>1100</td>\n",
       "    </tr>\n",
       "    <tr>\n",
       "      <th>2</th>\n",
       "      <td>Hong Kong</td>\n",
       "      <td>3306</td>\n",
       "      <td>3331</td>\n",
       "      <td>3467</td>\n",
       "      <td>3480</td>\n",
       "      <td>3025</td>\n",
       "      <td>2113</td>\n",
       "      <td>1590</td>\n",
       "      <td>1376</td>\n",
       "      <td>1096</td>\n",
       "      <td>836</td>\n",
       "      <td>719</td>\n",
       "      <td>687</td>\n",
       "      <td>440</td>\n",
       "      <td>289</td>\n",
       "      <td>220</td>\n",
       "    </tr>\n",
       "    <tr>\n",
       "      <th>3</th>\n",
       "      <td>Germany</td>\n",
       "      <td>15303</td>\n",
       "      <td>15249</td>\n",
       "      <td>15357</td>\n",
       "      <td>15528</td>\n",
       "      <td>15811</td>\n",
       "      <td>16178</td>\n",
       "      <td>16411</td>\n",
       "      <td>16657</td>\n",
       "      <td>16741</td>\n",
       "      <td>14907</td>\n",
       "      <td>12270</td>\n",
       "      <td>5004</td>\n",
       "      <td>2171</td>\n",
       "      <td>1424</td>\n",
       "      <td>1384</td>\n",
       "    </tr>\n",
       "    <tr>\n",
       "      <th>4</th>\n",
       "      <td>Singapore</td>\n",
       "      <td>3862</td>\n",
       "      <td>3871</td>\n",
       "      <td>3952</td>\n",
       "      <td>3967</td>\n",
       "      <td>3704</td>\n",
       "      <td>3360</td>\n",
       "      <td>3211</td>\n",
       "      <td>3035</td>\n",
       "      <td>2894</td>\n",
       "      <td>2510</td>\n",
       "      <td>2399</td>\n",
       "      <td>855</td>\n",
       "      <td>343</td>\n",
       "      <td>377</td>\n",
       "      <td>281</td>\n",
       "    </tr>\n",
       "  </tbody>\n",
       "</table>\n",
       "</div>"
      ],
      "text/plain": [
       "   Countries  2020-01-06 00:00:00  2020-01-13 00:00:00  2020-01-20 00:00:00  \\\n",
       "0        ALL               814625               806924               806505   \n",
       "1      Spain                14763                13842                13830   \n",
       "2  Hong Kong                 3306                 3331                 3467   \n",
       "3    Germany                15303                15249                15357   \n",
       "4  Singapore                 3862                 3871                 3952   \n",
       "\n",
       "   2020-01-27 00:00:00  2020-02-03 00:00:00  2020-02-10 00:00:00  \\\n",
       "0               805881               775141               732120   \n",
       "1                13946                14260                14795   \n",
       "2                 3480                 3025                 2113   \n",
       "3                15528                15811                16178   \n",
       "4                 3967                 3704                 3360   \n",
       "\n",
       "   2020-02-17 00:00:00  2020-02-24 00:00:00  2020-03-02 00:00:00  \\\n",
       "0               728408               734927               756880   \n",
       "1                15486                15604                15673   \n",
       "2                 1590                 1376                 1096   \n",
       "3                16411                16657                16741   \n",
       "4                 3211                 3035                 2894   \n",
       "\n",
       "   2020-03-09 00:00:00  2020-03-16 00:00:00  2020-03-23 00:00:00  \\\n",
       "0               743169               720239               584116   \n",
       "1                15386                13647                 4111   \n",
       "2                  836                  719                  687   \n",
       "3                14907                12270                 5004   \n",
       "4                 2510                 2399                  855   \n",
       "\n",
       "   2020-03-30 00:00:00  2020-04-06 00:00:00  2020-04-13 00:00:00  \n",
       "0               437769               343431               299729  \n",
       "1                 2124                 1408                 1100  \n",
       "2                  440                  289                  220  \n",
       "3                 2171                 1424                 1384  \n",
       "4                  343                  377                  281  "
      ]
     },
     "execution_count": 406,
     "metadata": {},
     "output_type": "execute_result"
    }
   ],
   "source": [
    "df_air = pd.read_excel('2020_AirTraffic.xlsx')\n",
    "df_air.head()"
   ]
  },
  {
   "cell_type": "code",
   "execution_count": 407,
   "metadata": {},
   "outputs": [
    {
     "data": {
      "text/html": [
       "<div>\n",
       "<style scoped>\n",
       "    .dataframe tbody tr th:only-of-type {\n",
       "        vertical-align: middle;\n",
       "    }\n",
       "\n",
       "    .dataframe tbody tr th {\n",
       "        vertical-align: top;\n",
       "    }\n",
       "\n",
       "    .dataframe thead th {\n",
       "        text-align: right;\n",
       "    }\n",
       "</style>\n",
       "<table border=\"1\" class=\"dataframe\">\n",
       "  <thead>\n",
       "    <tr style=\"text-align: right;\">\n",
       "      <th></th>\n",
       "      <th>2020-01-06 00:00:00</th>\n",
       "      <th>2020-01-13 00:00:00</th>\n",
       "      <th>2020-01-20 00:00:00</th>\n",
       "      <th>2020-01-27 00:00:00</th>\n",
       "      <th>2020-02-03 00:00:00</th>\n",
       "      <th>2020-02-10 00:00:00</th>\n",
       "      <th>2020-02-17 00:00:00</th>\n",
       "      <th>2020-02-24 00:00:00</th>\n",
       "      <th>2020-03-02 00:00:00</th>\n",
       "      <th>2020-03-09 00:00:00</th>\n",
       "      <th>2020-03-16 00:00:00</th>\n",
       "      <th>2020-03-23 00:00:00</th>\n",
       "      <th>2020-03-30 00:00:00</th>\n",
       "      <th>2020-04-06 00:00:00</th>\n",
       "      <th>2020-04-13 00:00:00</th>\n",
       "    </tr>\n",
       "    <tr>\n",
       "      <th>Countries</th>\n",
       "      <th></th>\n",
       "      <th></th>\n",
       "      <th></th>\n",
       "      <th></th>\n",
       "      <th></th>\n",
       "      <th></th>\n",
       "      <th></th>\n",
       "      <th></th>\n",
       "      <th></th>\n",
       "      <th></th>\n",
       "      <th></th>\n",
       "      <th></th>\n",
       "      <th></th>\n",
       "      <th></th>\n",
       "      <th></th>\n",
       "    </tr>\n",
       "  </thead>\n",
       "  <tbody>\n",
       "    <tr>\n",
       "      <th>South Korea</th>\n",
       "      <td>8655</td>\n",
       "      <td>8643</td>\n",
       "      <td>8793</td>\n",
       "      <td>8663</td>\n",
       "      <td>8316</td>\n",
       "      <td>7708</td>\n",
       "      <td>7185</td>\n",
       "      <td>6998</td>\n",
       "      <td>5532</td>\n",
       "      <td>4014</td>\n",
       "      <td>3649</td>\n",
       "      <td>3700</td>\n",
       "      <td>3652</td>\n",
       "      <td>3451</td>\n",
       "      <td>3366</td>\n",
       "    </tr>\n",
       "    <tr>\n",
       "      <th>USA</th>\n",
       "      <td>221643</td>\n",
       "      <td>217001</td>\n",
       "      <td>219912</td>\n",
       "      <td>218473</td>\n",
       "      <td>220628</td>\n",
       "      <td>221782</td>\n",
       "      <td>227852</td>\n",
       "      <td>228230</td>\n",
       "      <td>230771</td>\n",
       "      <td>236489</td>\n",
       "      <td>237920</td>\n",
       "      <td>227433</td>\n",
       "      <td>183691</td>\n",
       "      <td>129861</td>\n",
       "      <td>98956</td>\n",
       "    </tr>\n",
       "    <tr>\n",
       "      <th>India</th>\n",
       "      <td>30881</td>\n",
       "      <td>30732</td>\n",
       "      <td>29996</td>\n",
       "      <td>30514</td>\n",
       "      <td>30283</td>\n",
       "      <td>30578</td>\n",
       "      <td>30796</td>\n",
       "      <td>30965</td>\n",
       "      <td>31071</td>\n",
       "      <td>30814</td>\n",
       "      <td>30082</td>\n",
       "      <td>27170</td>\n",
       "      <td>8589</td>\n",
       "      <td>7833</td>\n",
       "      <td>12682</td>\n",
       "    </tr>\n",
       "  </tbody>\n",
       "</table>\n",
       "</div>"
      ],
      "text/plain": [
       "             2020-01-06 00:00:00  2020-01-13 00:00:00  2020-01-20 00:00:00  \\\n",
       "Countries                                                                    \n",
       "South Korea                 8655                 8643                 8793   \n",
       "USA                       221643               217001               219912   \n",
       "India                      30881                30732                29996   \n",
       "\n",
       "             2020-01-27 00:00:00  2020-02-03 00:00:00  2020-02-10 00:00:00  \\\n",
       "Countries                                                                    \n",
       "South Korea                 8663                 8316                 7708   \n",
       "USA                       218473               220628               221782   \n",
       "India                      30514                30283                30578   \n",
       "\n",
       "             2020-02-17 00:00:00  2020-02-24 00:00:00  2020-03-02 00:00:00  \\\n",
       "Countries                                                                    \n",
       "South Korea                 7185                 6998                 5532   \n",
       "USA                       227852               228230               230771   \n",
       "India                      30796                30965                31071   \n",
       "\n",
       "             2020-03-09 00:00:00  2020-03-16 00:00:00  2020-03-23 00:00:00  \\\n",
       "Countries                                                                    \n",
       "South Korea                 4014                 3649                 3700   \n",
       "USA                       236489               237920               227433   \n",
       "India                      30814                30082                27170   \n",
       "\n",
       "             2020-03-30 00:00:00  2020-04-06 00:00:00  2020-04-13 00:00:00  \n",
       "Countries                                                                   \n",
       "South Korea                 3652                 3451                 3366  \n",
       "USA                       183691               129861                98956  \n",
       "India                       8589                 7833                12682  "
      ]
     },
     "execution_count": 407,
     "metadata": {},
     "output_type": "execute_result"
    }
   ],
   "source": [
    "df_air=df_air[df_air['Countries'].isin(['USA','South Korea','India'])]\n",
    "df_air = df_air.set_index('Countries')\n",
    "df_air"
   ]
  },
  {
   "cell_type": "code",
   "execution_count": 408,
   "metadata": {},
   "outputs": [
    {
     "data": {
      "text/html": [
       "<div>\n",
       "<style scoped>\n",
       "    .dataframe tbody tr th:only-of-type {\n",
       "        vertical-align: middle;\n",
       "    }\n",
       "\n",
       "    .dataframe tbody tr th {\n",
       "        vertical-align: top;\n",
       "    }\n",
       "\n",
       "    .dataframe thead th {\n",
       "        text-align: right;\n",
       "    }\n",
       "</style>\n",
       "<table border=\"1\" class=\"dataframe\">\n",
       "  <thead>\n",
       "    <tr style=\"text-align: right;\">\n",
       "      <th>Countries</th>\n",
       "      <th>Date</th>\n",
       "      <th>South Korea</th>\n",
       "      <th>USA</th>\n",
       "      <th>India</th>\n",
       "    </tr>\n",
       "  </thead>\n",
       "  <tbody>\n",
       "    <tr>\n",
       "      <th>0</th>\n",
       "      <td>2020-01-06</td>\n",
       "      <td>8655</td>\n",
       "      <td>221643</td>\n",
       "      <td>30881</td>\n",
       "    </tr>\n",
       "    <tr>\n",
       "      <th>1</th>\n",
       "      <td>2020-01-13</td>\n",
       "      <td>8643</td>\n",
       "      <td>217001</td>\n",
       "      <td>30732</td>\n",
       "    </tr>\n",
       "    <tr>\n",
       "      <th>2</th>\n",
       "      <td>2020-01-20</td>\n",
       "      <td>8793</td>\n",
       "      <td>219912</td>\n",
       "      <td>29996</td>\n",
       "    </tr>\n",
       "    <tr>\n",
       "      <th>3</th>\n",
       "      <td>2020-01-27</td>\n",
       "      <td>8663</td>\n",
       "      <td>218473</td>\n",
       "      <td>30514</td>\n",
       "    </tr>\n",
       "    <tr>\n",
       "      <th>4</th>\n",
       "      <td>2020-02-03</td>\n",
       "      <td>8316</td>\n",
       "      <td>220628</td>\n",
       "      <td>30283</td>\n",
       "    </tr>\n",
       "  </tbody>\n",
       "</table>\n",
       "</div>"
      ],
      "text/plain": [
       "Countries       Date  South Korea     USA  India\n",
       "0         2020-01-06         8655  221643  30881\n",
       "1         2020-01-13         8643  217001  30732\n",
       "2         2020-01-20         8793  219912  29996\n",
       "3         2020-01-27         8663  218473  30514\n",
       "4         2020-02-03         8316  220628  30283"
      ]
     },
     "execution_count": 408,
     "metadata": {},
     "output_type": "execute_result"
    }
   ],
   "source": [
    "df_air_transpose = df_air.T\n",
    "df_air_transpose = df_air_transpose.reset_index()\n",
    "df_air_transpose = df_air_transpose.rename(columns={'index':'Date'})\n",
    "df_air_transpose.head()"
   ]
  },
  {
   "cell_type": "code",
   "execution_count": 409,
   "metadata": {},
   "outputs": [
    {
     "data": {
      "image/png": "[encoded data removed]",
      "text/plain": [
       "<Figure size 1080x360 with 1 Axes>"
      ]
     },
     "metadata": {},
     "output_type": "display_data"
    }
   ],
   "source": [
    "sns.set()\n",
    "plt.figure(figsize=(15,5))\n",
    "plt.title('South Korea: Air Traffic Trend (Year:2020)')\n",
    "#plt.axvspan(14, 48, alpha=0.5, color='moccasin', label='Lockdown period')\n",
    "sns.lineplot(x='Date', \n",
    "             y='USA',\n",
    "             data=df_air_transpose)\n",
    "plt.xlabel('Date')\n",
    "plt.ylabel('# of Fligts')\n",
    "plt.xticks(rotation=50)\n",
    "plt.xticks(['2020-01-06','2020-01-13', '2020-01-20', '2020-01-27', '2020-02-03', '2020-02-10', '2020-02-17', '2020-02-24',  '2020-03-02', '2020-03-09', '2020-03-16', '2020-03-23', '2020-03-30', '2020-04-06', '2020-04-13'])\n",
    "#plt.ylim(50)\n",
    "plt.show()"
   ]
  },
  {
   "cell_type": "markdown",
   "metadata": {},
   "source": [
    "# Read City Traffic Data"
   ]
  },
  {
   "cell_type": "code",
   "execution_count": 410,
   "metadata": {},
   "outputs": [
    {
     "data": {
      "text/plain": [
       "Index(['Date', 'Amsterdam', 'Barcelona', 'Berlin', 'Birmingham', 'Boston',\n",
       "       'Brussels', 'Chicago', 'Copenhagen', 'Hamburg', 'Hong Kong', 'Istanbul',\n",
       "       'Lisbon', 'London', 'Los Angeles', 'Lyon', 'Madrid', 'Manchester',\n",
       "       'Melbourne', 'Mexico City', 'Milan', 'Monaco', 'Montréal', 'Moscow',\n",
       "       'New York City', 'Paris', 'Philadelphia', 'Rhine-Ruhr', 'Rome',\n",
       "       'San Francisco', 'Seattle', 'Seoul', 'Singapore', 'St. Petersburg',\n",
       "       'Stockholm', 'Sydney', 'São Paulo', 'Tokyo', 'Toronto', 'Vancouver',\n",
       "       'Vienna', 'Washington DC'],\n",
       "      dtype='object')"
      ]
     },
     "execution_count": 410,
     "metadata": {},
     "output_type": "execute_result"
    }
   ],
   "source": [
    "df_traffic = pd.read_csv('Citymapper_Mobility_Index_20200420.csv',skiprows=3)\n",
    "df_traffic.columns"
   ]
  },
  {
   "cell_type": "code",
   "execution_count": 413,
   "metadata": {},
   "outputs": [
    {
     "data": {
      "text/plain": [
       "(91, 2)"
      ]
     },
     "execution_count": 413,
     "metadata": {},
     "output_type": "execute_result"
    }
   ],
   "source": [
    "df_traffic_city = df_traffic[['Date', 'New York City']]\n",
    "df_traffic_city.shape\n"
   ]
  },
  {
   "cell_type": "code",
   "execution_count": 414,
   "metadata": {},
   "outputs": [
    {
     "data": {
      "text/plain": [
       "(49, 2)"
      ]
     },
     "execution_count": 414,
     "metadata": {},
     "output_type": "execute_result"
    }
   ],
   "source": [
    "df_traffic_city = df_traffic_city.dropna()\n",
    "df_traffic_city.shape"
   ]
  },
  {
   "cell_type": "code",
   "execution_count": 415,
   "metadata": {},
   "outputs": [
    {
     "data": {
      "image/png": "[encoded data removed]",
      "text/plain": [
       "<Figure size 1080x360 with 1 Axes>"
      ]
     },
     "metadata": {},
     "output_type": "display_data"
    }
   ],
   "source": [
    "sns.set()\n",
    "plt.figure(figsize=(15,5))\n",
    "plt.title('New York City: City Traffic')\n",
    "plt.axvspan(14, 48, alpha=0.5, color='moccasin', label='Lockdown period')\n",
    "sns.lineplot(x='Date', \n",
    "             y='New York City',\n",
    "             data=df_traffic_city)\n",
    "plt.xlabel('Date')\n",
    "plt.ylabel('Traffic Indicator')\n",
    "plt.xticks(rotation=90)\n",
    "#plt.ylim(50)\n",
    "plt.show()"
   ]
  },
  {
   "cell_type": "markdown",
   "metadata": {},
   "source": [
    "# Read Industry Data"
   ]
  },
  {
   "cell_type": "code",
   "execution_count": 416,
   "metadata": {},
   "outputs": [
    {
     "data": {
      "text/html": [
       "<div>\n",
       "<style scoped>\n",
       "    .dataframe tbody tr th:only-of-type {\n",
       "        vertical-align: middle;\n",
       "    }\n",
       "\n",
       "    .dataframe tbody tr th {\n",
       "        vertical-align: top;\n",
       "    }\n",
       "\n",
       "    .dataframe thead th {\n",
       "        text-align: right;\n",
       "    }\n",
       "</style>\n",
       "<table border=\"1\" class=\"dataframe\">\n",
       "  <thead>\n",
       "    <tr style=\"text-align: right;\">\n",
       "      <th></th>\n",
       "      <th>Descriptions:</th>\n",
       "      <th>Unit:</th>\n",
       "      <th>Multiplier:</th>\n",
       "      <th>Currency:</th>\n",
       "      <th>Unique Identifier:</th>\n",
       "      <th>Series Name:</th>\n",
       "      <th>2019-09</th>\n",
       "      <th>2019-10</th>\n",
       "      <th>2019-11</th>\n",
       "      <th>2019-12</th>\n",
       "      <th>2020-01</th>\n",
       "      <th>2020-02</th>\n",
       "      <th>2020-03</th>\n",
       "    </tr>\n",
       "  </thead>\n",
       "  <tbody>\n",
       "    <tr>\n",
       "      <th>0</th>\n",
       "      <td>Total index; s.a. IP</td>\n",
       "      <td>Index:_2012_100</td>\n",
       "      <td>1.0</td>\n",
       "      <td>NaN</td>\n",
       "      <td>G17/IP_MAJOR_INDUSTRY_GROUPS/IP.B50001.S</td>\n",
       "      <td>IP.B50001.S</td>\n",
       "      <td>109.4725</td>\n",
       "      <td>109.0270</td>\n",
       "      <td>110.0525</td>\n",
       "      <td>109.6151</td>\n",
       "      <td>109.0830</td>\n",
       "      <td>109.5819</td>\n",
       "      <td>103.6635</td>\n",
       "    </tr>\n",
       "    <tr>\n",
       "      <th>1</th>\n",
       "      <td>Total index; n.s.a. IP</td>\n",
       "      <td>Index:_2012_100</td>\n",
       "      <td>1.0</td>\n",
       "      <td>NaN</td>\n",
       "      <td>G17/IP_MAJOR_INDUSTRY_GROUPS/IP.B50001.N</td>\n",
       "      <td>IP.B50001.N</td>\n",
       "      <td>110.1146</td>\n",
       "      <td>108.8239</td>\n",
       "      <td>109.2372</td>\n",
       "      <td>109.1492</td>\n",
       "      <td>108.4974</td>\n",
       "      <td>109.4227</td>\n",
       "      <td>103.7426</td>\n",
       "    </tr>\n",
       "    <tr>\n",
       "      <th>2</th>\n",
       "      <td>Manufacturing (SIC); s.a. IP</td>\n",
       "      <td>Index:_2012_100</td>\n",
       "      <td>1.0</td>\n",
       "      <td>NaN</td>\n",
       "      <td>G17/IP_MAJOR_INDUSTRY_GROUPS/IP.B00004.S</td>\n",
       "      <td>IP.B00004.S</td>\n",
       "      <td>104.5218</td>\n",
       "      <td>103.9383</td>\n",
       "      <td>104.9005</td>\n",
       "      <td>105.0753</td>\n",
       "      <td>104.9486</td>\n",
       "      <td>104.8858</td>\n",
       "      <td>98.3291</td>\n",
       "    </tr>\n",
       "    <tr>\n",
       "      <th>3</th>\n",
       "      <td>Manufacturing (SIC); n.s.a. IP</td>\n",
       "      <td>Index:_2012_100</td>\n",
       "      <td>1.0</td>\n",
       "      <td>NaN</td>\n",
       "      <td>G17/IP_MAJOR_INDUSTRY_GROUPS/IP.B00004.N</td>\n",
       "      <td>IP.B00004.N</td>\n",
       "      <td>105.6515</td>\n",
       "      <td>105.1873</td>\n",
       "      <td>104.5939</td>\n",
       "      <td>103.3014</td>\n",
       "      <td>102.3079</td>\n",
       "      <td>104.0135</td>\n",
       "      <td>98.5511</td>\n",
       "    </tr>\n",
       "    <tr>\n",
       "      <th>4</th>\n",
       "      <td>Manufacturing (NAICS); s.a. IP</td>\n",
       "      <td>Index:_2012_100</td>\n",
       "      <td>1.0</td>\n",
       "      <td>NaN</td>\n",
       "      <td>G17/IP_MAJOR_INDUSTRY_GROUPS/IP.GMF.S</td>\n",
       "      <td>IP.GMF.S</td>\n",
       "      <td>105.6556</td>\n",
       "      <td>105.0590</td>\n",
       "      <td>106.1182</td>\n",
       "      <td>106.3364</td>\n",
       "      <td>106.1314</td>\n",
       "      <td>106.1112</td>\n",
       "      <td>99.4566</td>\n",
       "    </tr>\n",
       "  </tbody>\n",
       "</table>\n",
       "</div>"
      ],
      "text/plain": [
       "                    Descriptions:            Unit:  Multiplier: Currency:  \\\n",
       "0            Total index; s.a. IP  Index:_2012_100          1.0       NaN   \n",
       "1          Total index; n.s.a. IP  Index:_2012_100          1.0       NaN   \n",
       "2    Manufacturing (SIC); s.a. IP  Index:_2012_100          1.0       NaN   \n",
       "3  Manufacturing (SIC); n.s.a. IP  Index:_2012_100          1.0       NaN   \n",
       "4  Manufacturing (NAICS); s.a. IP  Index:_2012_100          1.0       NaN   \n",
       "\n",
       "                         Unique Identifier: Series Name:   2019-09   2019-10  \\\n",
       "0  G17/IP_MAJOR_INDUSTRY_GROUPS/IP.B50001.S  IP.B50001.S  109.4725  109.0270   \n",
       "1  G17/IP_MAJOR_INDUSTRY_GROUPS/IP.B50001.N  IP.B50001.N  110.1146  108.8239   \n",
       "2  G17/IP_MAJOR_INDUSTRY_GROUPS/IP.B00004.S  IP.B00004.S  104.5218  103.9383   \n",
       "3  G17/IP_MAJOR_INDUSTRY_GROUPS/IP.B00004.N  IP.B00004.N  105.6515  105.1873   \n",
       "4     G17/IP_MAJOR_INDUSTRY_GROUPS/IP.GMF.S     IP.GMF.S  105.6556  105.0590   \n",
       "\n",
       "    2019-11   2019-12   2020-01   2020-02   2020-03  \n",
       "0  110.0525  109.6151  109.0830  109.5819  103.6635  \n",
       "1  109.2372  109.1492  108.4974  109.4227  103.7426  \n",
       "2  104.9005  105.0753  104.9486  104.8858   98.3291  \n",
       "3  104.5939  103.3014  102.3079  104.0135   98.5511  \n",
       "4  106.1182  106.3364  106.1314  106.1112   99.4566  "
      ]
     },
     "execution_count": 416,
     "metadata": {},
     "output_type": "execute_result"
    }
   ],
   "source": [
    "df_industry=pd.read_csv('USA_IndustrialTrend.csv')\n",
    "df_industry.head()"
   ]
  },
  {
   "cell_type": "code",
   "execution_count": 417,
   "metadata": {},
   "outputs": [
    {
     "data": {
      "text/html": [
       "<div>\n",
       "<style scoped>\n",
       "    .dataframe tbody tr th:only-of-type {\n",
       "        vertical-align: middle;\n",
       "    }\n",
       "\n",
       "    .dataframe tbody tr th {\n",
       "        vertical-align: top;\n",
       "    }\n",
       "\n",
       "    .dataframe thead th {\n",
       "        text-align: right;\n",
       "    }\n",
       "</style>\n",
       "<table border=\"1\" class=\"dataframe\">\n",
       "  <thead>\n",
       "    <tr style=\"text-align: right;\">\n",
       "      <th></th>\n",
       "      <th>2019-09</th>\n",
       "      <th>2019-10</th>\n",
       "      <th>2019-11</th>\n",
       "      <th>2019-12</th>\n",
       "      <th>2020-01</th>\n",
       "      <th>2020-02</th>\n",
       "      <th>2020-03</th>\n",
       "    </tr>\n",
       "  </thead>\n",
       "  <tbody>\n",
       "    <tr>\n",
       "      <th>512</th>\n",
       "      <td>109.4725</td>\n",
       "      <td>109.027</td>\n",
       "      <td>110.0525</td>\n",
       "      <td>109.6151</td>\n",
       "      <td>109.083</td>\n",
       "      <td>109.5819</td>\n",
       "      <td>103.6635</td>\n",
       "    </tr>\n",
       "  </tbody>\n",
       "</table>\n",
       "</div>"
      ],
      "text/plain": [
       "      2019-09  2019-10   2019-11   2019-12  2020-01   2020-02   2020-03\n",
       "512  109.4725  109.027  110.0525  109.6151  109.083  109.5819  103.6635"
      ]
     },
     "execution_count": 417,
     "metadata": {},
     "output_type": "execute_result"
    }
   ],
   "source": [
    "filter=(df_industry['Descriptions:'] =='Total index; s.a. IP') &(df_industry['Unique Identifier:'] =='G17/IP_MARKET_GROUPS/IP.B50001.S')\n",
    "df_industry_usa=df_industry.loc[filter]\n",
    "df_industry_usa= df_industry_usa[['2019-09','2019-10','2019-11','2019-12','2020-01','2020-02','2020-03']]\n",
    "df_industry_usa.head()\n"
   ]
  },
  {
   "cell_type": "code",
   "execution_count": 418,
   "metadata": {},
   "outputs": [
    {
     "data": {
      "text/html": [
       "<div>\n",
       "<style scoped>\n",
       "    .dataframe tbody tr th:only-of-type {\n",
       "        vertical-align: middle;\n",
       "    }\n",
       "\n",
       "    .dataframe tbody tr th {\n",
       "        vertical-align: top;\n",
       "    }\n",
       "\n",
       "    .dataframe thead th {\n",
       "        text-align: right;\n",
       "    }\n",
       "</style>\n",
       "<table border=\"1\" class=\"dataframe\">\n",
       "  <thead>\n",
       "    <tr style=\"text-align: right;\">\n",
       "      <th></th>\n",
       "      <th>Date</th>\n",
       "      <th>Value</th>\n",
       "    </tr>\n",
       "  </thead>\n",
       "  <tbody>\n",
       "    <tr>\n",
       "      <th>0</th>\n",
       "      <td>2019-09</td>\n",
       "      <td>109.4725</td>\n",
       "    </tr>\n",
       "    <tr>\n",
       "      <th>1</th>\n",
       "      <td>2019-10</td>\n",
       "      <td>109.0270</td>\n",
       "    </tr>\n",
       "    <tr>\n",
       "      <th>2</th>\n",
       "      <td>2019-11</td>\n",
       "      <td>110.0525</td>\n",
       "    </tr>\n",
       "    <tr>\n",
       "      <th>3</th>\n",
       "      <td>2019-12</td>\n",
       "      <td>109.6151</td>\n",
       "    </tr>\n",
       "    <tr>\n",
       "      <th>4</th>\n",
       "      <td>2020-01</td>\n",
       "      <td>109.0830</td>\n",
       "    </tr>\n",
       "    <tr>\n",
       "      <th>5</th>\n",
       "      <td>2020-02</td>\n",
       "      <td>109.5819</td>\n",
       "    </tr>\n",
       "    <tr>\n",
       "      <th>6</th>\n",
       "      <td>2020-03</td>\n",
       "      <td>103.6635</td>\n",
       "    </tr>\n",
       "  </tbody>\n",
       "</table>\n",
       "</div>"
      ],
      "text/plain": [
       "      Date     Value\n",
       "0  2019-09  109.4725\n",
       "1  2019-10  109.0270\n",
       "2  2019-11  110.0525\n",
       "3  2019-12  109.6151\n",
       "4  2020-01  109.0830\n",
       "5  2020-02  109.5819\n",
       "6  2020-03  103.6635"
      ]
     },
     "execution_count": 418,
     "metadata": {},
     "output_type": "execute_result"
    }
   ],
   "source": [
    "df_industry_usa_t = df_industry_usa.T\n",
    "df_industry_usa_t = df_industry_usa_t.reset_index()\n",
    "df_industry_usa_t = df_industry_usa_t.rename(columns={'index':'Date',512:'Value'})\n",
    "df_industry_usa_t"
   ]
  },
  {
   "cell_type": "code",
   "execution_count": 419,
   "metadata": {},
   "outputs": [
    {
     "data": {
      "image/png": "[encoded data removed]",
      "text/plain": [
       "<Figure size 1080x360 with 1 Axes>"
      ]
     },
     "metadata": {},
     "output_type": "display_data"
    }
   ],
   "source": [
    "sns.set()\n",
    "plt.figure(figsize=(15,5))\n",
    "plt.title('USA Industries Trend Year(Sep 2019- Mar 2020)')\n",
    "plt.axvspan(5, 6, alpha=0.5, color='moccasin', label='Lockdown period')\n",
    "sns.lineplot(x='Date', \n",
    "             y='Value',\n",
    "             data=df_industry_usa_t)\n",
    "plt.xlabel('Date')\n",
    "plt.ylabel('Industrial Production Index')\n",
    "plt.xticks(rotation=70)\n",
    "#plt.ylim(50)\n",
    "plt.show()"
   ]
  },
  {
   "cell_type": "markdown",
   "metadata": {},
   "source": [
    "# Pollutant with comparitive measures visualization"
   ]
  },
  {
   "cell_type": "code",
   "execution_count": 420,
   "metadata": {},
   "outputs": [
    {
     "data": {
      "text/plain": [
       "array(['Paris', 'Wuhan', 'Seoul', 'NewYork', 'Delhi', 'LosAngeles',\n",
       "       'HongKong', 'Beijing'], dtype=object)"
      ]
     },
     "execution_count": 420,
     "metadata": {},
     "output_type": "execute_result"
    }
   ],
   "source": [
    "pm25_range['city'].unique()"
   ]
  },
  {
   "cell_type": "code",
   "execution_count": 421,
   "metadata": {},
   "outputs": [
    {
     "data": {
      "text/html": [
       "<div>\n",
       "<style scoped>\n",
       "    .dataframe tbody tr th:only-of-type {\n",
       "        vertical-align: middle;\n",
       "    }\n",
       "\n",
       "    .dataframe tbody tr th {\n",
       "        vertical-align: top;\n",
       "    }\n",
       "\n",
       "    .dataframe thead th {\n",
       "        text-align: right;\n",
       "    }\n",
       "</style>\n",
       "<table border=\"1\" class=\"dataframe\">\n",
       "  <thead>\n",
       "    <tr style=\"text-align: right;\">\n",
       "      <th></th>\n",
       "      <th>Date</th>\n",
       "      <th>Value</th>\n",
       "      <th>Type</th>\n",
       "    </tr>\n",
       "  </thead>\n",
       "  <tbody>\n",
       "    <tr>\n",
       "      <th>0</th>\n",
       "      <td>2020-04-02</td>\n",
       "      <td>0.20</td>\n",
       "      <td>pm25</td>\n",
       "    </tr>\n",
       "    <tr>\n",
       "      <th>1</th>\n",
       "      <td>2020-04-03</td>\n",
       "      <td>0.14</td>\n",
       "      <td>pm25</td>\n",
       "    </tr>\n",
       "    <tr>\n",
       "      <th>2</th>\n",
       "      <td>2020-04-04</td>\n",
       "      <td>0.13</td>\n",
       "      <td>pm25</td>\n",
       "    </tr>\n",
       "    <tr>\n",
       "      <th>3</th>\n",
       "      <td>2020-04-05</td>\n",
       "      <td>0.14</td>\n",
       "      <td>pm25</td>\n",
       "    </tr>\n",
       "    <tr>\n",
       "      <th>4</th>\n",
       "      <td>2020-04-06</td>\n",
       "      <td>0.41</td>\n",
       "      <td>pm25</td>\n",
       "    </tr>\n",
       "  </tbody>\n",
       "</table>\n",
       "</div>"
      ],
      "text/plain": [
       "        Date  Value  Type\n",
       "0 2020-04-02   0.20  pm25\n",
       "1 2020-04-03   0.14  pm25\n",
       "2 2020-04-04   0.13  pm25\n",
       "3 2020-04-05   0.14  pm25\n",
       "4 2020-04-06   0.41  pm25"
      ]
     },
     "execution_count": 421,
     "metadata": {},
     "output_type": "execute_result"
    }
   ],
   "source": [
    "cond = (pm25_range['city'] == 'NewYork') & (pm25_range['date'] >= '2020/2/3') & (pm25_range['date'] <= '2020/4/19')\n",
    "pm25_city = pm25_range.loc[cond]\n",
    "pm25_city['Type'] = 'pm25'\n",
    "pm25_city['pm25'] = pm25_city['pm25']/100\n",
    "pm25_city = pm25_city.rename(columns={'pm25':'Value', 'date':'Date'})\n",
    "pm25_city = pm25_city[['Date','Value','Type']]\n",
    "pm25_city.head()"
   ]
  },
  {
   "cell_type": "code",
   "execution_count": 422,
   "metadata": {},
   "outputs": [
    {
     "data": {
      "text/html": [
       "<div>\n",
       "<style scoped>\n",
       "    .dataframe tbody tr th:only-of-type {\n",
       "        vertical-align: middle;\n",
       "    }\n",
       "\n",
       "    .dataframe tbody tr th {\n",
       "        vertical-align: top;\n",
       "    }\n",
       "\n",
       "    .dataframe thead th {\n",
       "        text-align: right;\n",
       "    }\n",
       "</style>\n",
       "<table border=\"1\" class=\"dataframe\">\n",
       "  <thead>\n",
       "    <tr style=\"text-align: right;\">\n",
       "      <th></th>\n",
       "      <th>Date</th>\n",
       "      <th>Type</th>\n",
       "      <th>Value</th>\n",
       "    </tr>\n",
       "  </thead>\n",
       "  <tbody>\n",
       "    <tr>\n",
       "      <th>0</th>\n",
       "      <td>2020-02</td>\n",
       "      <td>pm25</td>\n",
       "      <td>0.408148</td>\n",
       "    </tr>\n",
       "    <tr>\n",
       "      <th>1</th>\n",
       "      <td>2020-03</td>\n",
       "      <td>pm25</td>\n",
       "      <td>0.284516</td>\n",
       "    </tr>\n",
       "    <tr>\n",
       "      <th>2</th>\n",
       "      <td>2020-04</td>\n",
       "      <td>pm25</td>\n",
       "      <td>0.242632</td>\n",
       "    </tr>\n",
       "  </tbody>\n",
       "</table>\n",
       "</div>"
      ],
      "text/plain": [
       "      Date  Type     Value\n",
       "0  2020-02  pm25  0.408148\n",
       "1  2020-03  pm25  0.284516\n",
       "2  2020-04  pm25  0.242632"
      ]
     },
     "execution_count": 422,
     "metadata": {},
     "output_type": "execute_result"
    }
   ],
   "source": [
    "\"\"\"Converting to year and month\"\"\"\n",
    "pm25_city['Date'] = pm25_city['Date'].map(lambda x : x.strftime('%Y-%m'))\n",
    "pm25_city_grpby = pm25_city.groupby(['Date', 'Type'])['Value'].mean().reset_index(name='Value')\n",
    "pm25_city_grpby.head()"
   ]
  },
  {
   "cell_type": "code",
   "execution_count": 423,
   "metadata": {},
   "outputs": [
    {
     "data": {
      "text/html": [
       "<div>\n",
       "<style scoped>\n",
       "    .dataframe tbody tr th:only-of-type {\n",
       "        vertical-align: middle;\n",
       "    }\n",
       "\n",
       "    .dataframe tbody tr th {\n",
       "        vertical-align: top;\n",
       "    }\n",
       "\n",
       "    .dataframe thead th {\n",
       "        text-align: right;\n",
       "    }\n",
       "</style>\n",
       "<table border=\"1\" class=\"dataframe\">\n",
       "  <thead>\n",
       "    <tr style=\"text-align: right;\">\n",
       "      <th></th>\n",
       "      <th>Date</th>\n",
       "      <th>Value</th>\n",
       "      <th>Type</th>\n",
       "    </tr>\n",
       "  </thead>\n",
       "  <tbody>\n",
       "    <tr>\n",
       "      <th>42</th>\n",
       "      <td>2020-03-02</td>\n",
       "      <td>1.00</td>\n",
       "      <td>CityTraffic</td>\n",
       "    </tr>\n",
       "    <tr>\n",
       "      <th>43</th>\n",
       "      <td>2020-03-03</td>\n",
       "      <td>1.02</td>\n",
       "      <td>CityTraffic</td>\n",
       "    </tr>\n",
       "    <tr>\n",
       "      <th>44</th>\n",
       "      <td>2020-03-04</td>\n",
       "      <td>1.04</td>\n",
       "      <td>CityTraffic</td>\n",
       "    </tr>\n",
       "    <tr>\n",
       "      <th>45</th>\n",
       "      <td>2020-03-05</td>\n",
       "      <td>1.02</td>\n",
       "      <td>CityTraffic</td>\n",
       "    </tr>\n",
       "    <tr>\n",
       "      <th>46</th>\n",
       "      <td>2020-03-06</td>\n",
       "      <td>1.03</td>\n",
       "      <td>CityTraffic</td>\n",
       "    </tr>\n",
       "  </tbody>\n",
       "</table>\n",
       "</div>"
      ],
      "text/plain": [
       "          Date  Value         Type\n",
       "42  2020-03-02   1.00  CityTraffic\n",
       "43  2020-03-03   1.02  CityTraffic\n",
       "44  2020-03-04   1.04  CityTraffic\n",
       "45  2020-03-05   1.02  CityTraffic\n",
       "46  2020-03-06   1.03  CityTraffic"
      ]
     },
     "execution_count": 423,
     "metadata": {},
     "output_type": "execute_result"
    }
   ],
   "source": [
    "df_traffic_city['Type'] = 'CityTraffic'\n",
    "df_traffic_city = df_traffic_city.rename(columns={'New York City':'Value'})\n",
    "df_traffic_city.head()"
   ]
  },
  {
   "cell_type": "code",
   "execution_count": 424,
   "metadata": {},
   "outputs": [
    {
     "data": {
      "text/html": [
       "<div>\n",
       "<style scoped>\n",
       "    .dataframe tbody tr th:only-of-type {\n",
       "        vertical-align: middle;\n",
       "    }\n",
       "\n",
       "    .dataframe tbody tr th {\n",
       "        vertical-align: top;\n",
       "    }\n",
       "\n",
       "    .dataframe thead th {\n",
       "        text-align: right;\n",
       "    }\n",
       "</style>\n",
       "<table border=\"1\" class=\"dataframe\">\n",
       "  <thead>\n",
       "    <tr style=\"text-align: right;\">\n",
       "      <th></th>\n",
       "      <th>Date</th>\n",
       "      <th>Type</th>\n",
       "      <th>Value</th>\n",
       "    </tr>\n",
       "  </thead>\n",
       "  <tbody>\n",
       "    <tr>\n",
       "      <th>0</th>\n",
       "      <td>2020-03</td>\n",
       "      <td>CityTraffic</td>\n",
       "      <td>0.456000</td>\n",
       "    </tr>\n",
       "    <tr>\n",
       "      <th>1</th>\n",
       "      <td>2020-04</td>\n",
       "      <td>CityTraffic</td>\n",
       "      <td>0.056316</td>\n",
       "    </tr>\n",
       "  </tbody>\n",
       "</table>\n",
       "</div>"
      ],
      "text/plain": [
       "      Date         Type     Value\n",
       "0  2020-03  CityTraffic  0.456000\n",
       "1  2020-04  CityTraffic  0.056316"
      ]
     },
     "execution_count": 424,
     "metadata": {},
     "output_type": "execute_result"
    }
   ],
   "source": [
    "\"\"\"Converting to year and month\"\"\"\n",
    "df_traffic_city['Date'] = pd.to_datetime(df_traffic_city['Date'])\n",
    "df_traffic_city['Date'] = df_traffic_city['Date'].map(lambda x : x.strftime('%Y-%m'))\n",
    "df_traffic_city_grpby = df_traffic_city.groupby(['Date', 'Type'])['Value'].mean().reset_index(name='Value')\n",
    "df_traffic_city_grpby.head()"
   ]
  },
  {
   "cell_type": "code",
   "execution_count": 425,
   "metadata": {},
   "outputs": [
    {
     "data": {
      "text/html": [
       "<div>\n",
       "<style scoped>\n",
       "    .dataframe tbody tr th:only-of-type {\n",
       "        vertical-align: middle;\n",
       "    }\n",
       "\n",
       "    .dataframe tbody tr th {\n",
       "        vertical-align: top;\n",
       "    }\n",
       "\n",
       "    .dataframe thead th {\n",
       "        text-align: right;\n",
       "    }\n",
       "</style>\n",
       "<table border=\"1\" class=\"dataframe\">\n",
       "  <thead>\n",
       "    <tr style=\"text-align: right;\">\n",
       "      <th></th>\n",
       "      <th>Date</th>\n",
       "      <th>Value</th>\n",
       "      <th>Type</th>\n",
       "    </tr>\n",
       "  </thead>\n",
       "  <tbody>\n",
       "    <tr>\n",
       "      <th>5</th>\n",
       "      <td>2020-02</td>\n",
       "      <td>1.095819</td>\n",
       "      <td>Industry</td>\n",
       "    </tr>\n",
       "    <tr>\n",
       "      <th>6</th>\n",
       "      <td>2020-03</td>\n",
       "      <td>1.036635</td>\n",
       "      <td>Industry</td>\n",
       "    </tr>\n",
       "  </tbody>\n",
       "</table>\n",
       "</div>"
      ],
      "text/plain": [
       "      Date     Value      Type\n",
       "5  2020-02  1.095819  Industry\n",
       "6  2020-03  1.036635  Industry"
      ]
     },
     "execution_count": 425,
     "metadata": {},
     "output_type": "execute_result"
    }
   ],
   "source": [
    "df_industry_usa_t['Type'] = 'Industry'\n",
    "df_industry_usa_t['Value'] = df_industry_usa_t['Value']/100\n",
    "df_industry_usa_t['Date'] = pd.to_datetime(df_industry_usa_t['Date'])\n",
    "df_industry_usa_t = df_industry_usa_t[df_industry_usa_t['Date'].dt.strftime('%Y-%m') >= '2020-02']\n",
    "df_industry_usa_t['Date'] = df_industry_usa_t['Date'].map(lambda x : x.strftime('%Y-%m'))\n",
    "df_industry_usa_t.head()"
   ]
  },
  {
   "cell_type": "code",
   "execution_count": 426,
   "metadata": {},
   "outputs": [
    {
     "data": {
      "text/html": [
       "<div>\n",
       "<style scoped>\n",
       "    .dataframe tbody tr th:only-of-type {\n",
       "        vertical-align: middle;\n",
       "    }\n",
       "\n",
       "    .dataframe tbody tr th {\n",
       "        vertical-align: top;\n",
       "    }\n",
       "\n",
       "    .dataframe thead th {\n",
       "        text-align: right;\n",
       "    }\n",
       "</style>\n",
       "<table border=\"1\" class=\"dataframe\">\n",
       "  <thead>\n",
       "    <tr style=\"text-align: right;\">\n",
       "      <th>Countries</th>\n",
       "      <th>Date</th>\n",
       "      <th>Value</th>\n",
       "      <th>Type</th>\n",
       "    </tr>\n",
       "  </thead>\n",
       "  <tbody>\n",
       "    <tr>\n",
       "      <th>0</th>\n",
       "      <td>2020-01-06</td>\n",
       "      <td>1.108215</td>\n",
       "      <td>AirTraffic</td>\n",
       "    </tr>\n",
       "    <tr>\n",
       "      <th>1</th>\n",
       "      <td>2020-01-13</td>\n",
       "      <td>1.085005</td>\n",
       "      <td>AirTraffic</td>\n",
       "    </tr>\n",
       "    <tr>\n",
       "      <th>2</th>\n",
       "      <td>2020-01-20</td>\n",
       "      <td>1.099560</td>\n",
       "      <td>AirTraffic</td>\n",
       "    </tr>\n",
       "    <tr>\n",
       "      <th>3</th>\n",
       "      <td>2020-01-27</td>\n",
       "      <td>1.092365</td>\n",
       "      <td>AirTraffic</td>\n",
       "    </tr>\n",
       "    <tr>\n",
       "      <th>4</th>\n",
       "      <td>2020-02-03</td>\n",
       "      <td>1.103140</td>\n",
       "      <td>AirTraffic</td>\n",
       "    </tr>\n",
       "  </tbody>\n",
       "</table>\n",
       "</div>"
      ],
      "text/plain": [
       "Countries       Date     Value        Type\n",
       "0         2020-01-06  1.108215  AirTraffic\n",
       "1         2020-01-13  1.085005  AirTraffic\n",
       "2         2020-01-20  1.099560  AirTraffic\n",
       "3         2020-01-27  1.092365  AirTraffic\n",
       "4         2020-02-03  1.103140  AirTraffic"
      ]
     },
     "execution_count": 426,
     "metadata": {},
     "output_type": "execute_result"
    }
   ],
   "source": [
    "df_air_transpose_country=df_air_transpose[['Date','USA']]\n",
    "df_air_transpose_country['Type'] = 'AirTraffic'\n",
    "df_air_transpose_country = df_air_transpose_country.rename(columns={'USA':'Value'})\n",
    "df_air_transpose_country['Value'] = df_air_transpose_country['Value']/200000\n",
    "df_air_transpose_country.head()"
   ]
  },
  {
   "cell_type": "code",
   "execution_count": 427,
   "metadata": {},
   "outputs": [
    {
     "data": {
      "text/html": [
       "<div>\n",
       "<style scoped>\n",
       "    .dataframe tbody tr th:only-of-type {\n",
       "        vertical-align: middle;\n",
       "    }\n",
       "\n",
       "    .dataframe tbody tr th {\n",
       "        vertical-align: top;\n",
       "    }\n",
       "\n",
       "    .dataframe thead th {\n",
       "        text-align: right;\n",
       "    }\n",
       "</style>\n",
       "<table border=\"1\" class=\"dataframe\">\n",
       "  <thead>\n",
       "    <tr style=\"text-align: right;\">\n",
       "      <th></th>\n",
       "      <th>Date</th>\n",
       "      <th>Type</th>\n",
       "      <th>Value</th>\n",
       "    </tr>\n",
       "  </thead>\n",
       "  <tbody>\n",
       "    <tr>\n",
       "      <th>0</th>\n",
       "      <td>2020-02</td>\n",
       "      <td>AirTraffic</td>\n",
       "      <td>1.123115</td>\n",
       "    </tr>\n",
       "    <tr>\n",
       "      <th>1</th>\n",
       "      <td>2020-03</td>\n",
       "      <td>AirTraffic</td>\n",
       "      <td>1.116304</td>\n",
       "    </tr>\n",
       "    <tr>\n",
       "      <th>2</th>\n",
       "      <td>2020-04</td>\n",
       "      <td>AirTraffic</td>\n",
       "      <td>0.572043</td>\n",
       "    </tr>\n",
       "  </tbody>\n",
       "</table>\n",
       "</div>"
      ],
      "text/plain": [
       "      Date        Type     Value\n",
       "0  2020-02  AirTraffic  1.123115\n",
       "1  2020-03  AirTraffic  1.116304\n",
       "2  2020-04  AirTraffic  0.572043"
      ]
     },
     "execution_count": 427,
     "metadata": {},
     "output_type": "execute_result"
    }
   ],
   "source": [
    "\"\"\"Converting to year and month\"\"\"\n",
    "df_air_transpose_country['Date'] = pd.to_datetime(df_air_transpose_country['Date'])\n",
    "df_air_transpose_country = df_air_transpose_country[df_air_transpose_country['Date'].dt.strftime('%Y-%m') >= '2020-02']\n",
    "df_air_transpose_country['Date'] = df_air_transpose_country['Date'].map(lambda x : x.strftime('%Y-%m'))\n",
    "df_air_transpose_country_grpby = df_air_transpose_country.groupby(['Date', 'Type'])['Value'].mean().reset_index(name='Value')\n",
    "df_air_transpose_country_grpby.head()"
   ]
  },
  {
   "cell_type": "code",
   "execution_count": 428,
   "metadata": {},
   "outputs": [
    {
     "data": {
      "text/html": [
       "<div>\n",
       "<style scoped>\n",
       "    .dataframe tbody tr th:only-of-type {\n",
       "        vertical-align: middle;\n",
       "    }\n",
       "\n",
       "    .dataframe tbody tr th {\n",
       "        vertical-align: top;\n",
       "    }\n",
       "\n",
       "    .dataframe thead th {\n",
       "        text-align: right;\n",
       "    }\n",
       "</style>\n",
       "<table border=\"1\" class=\"dataframe\">\n",
       "  <thead>\n",
       "    <tr style=\"text-align: right;\">\n",
       "      <th></th>\n",
       "      <th>Date</th>\n",
       "      <th>Type</th>\n",
       "      <th>Value</th>\n",
       "    </tr>\n",
       "  </thead>\n",
       "  <tbody>\n",
       "    <tr>\n",
       "      <th>0</th>\n",
       "      <td>2020-02</td>\n",
       "      <td>pm25</td>\n",
       "      <td>0.408148</td>\n",
       "    </tr>\n",
       "    <tr>\n",
       "      <th>1</th>\n",
       "      <td>2020-03</td>\n",
       "      <td>pm25</td>\n",
       "      <td>0.284516</td>\n",
       "    </tr>\n",
       "    <tr>\n",
       "      <th>2</th>\n",
       "      <td>2020-04</td>\n",
       "      <td>pm25</td>\n",
       "      <td>0.242632</td>\n",
       "    </tr>\n",
       "    <tr>\n",
       "      <th>0</th>\n",
       "      <td>2020-03</td>\n",
       "      <td>CityTraffic</td>\n",
       "      <td>0.456000</td>\n",
       "    </tr>\n",
       "    <tr>\n",
       "      <th>1</th>\n",
       "      <td>2020-04</td>\n",
       "      <td>CityTraffic</td>\n",
       "      <td>0.056316</td>\n",
       "    </tr>\n",
       "  </tbody>\n",
       "</table>\n",
       "</div>"
      ],
      "text/plain": [
       "      Date         Type     Value\n",
       "0  2020-02         pm25  0.408148\n",
       "1  2020-03         pm25  0.284516\n",
       "2  2020-04         pm25  0.242632\n",
       "0  2020-03  CityTraffic  0.456000\n",
       "1  2020-04  CityTraffic  0.056316"
      ]
     },
     "execution_count": 428,
     "metadata": {},
     "output_type": "execute_result"
    }
   ],
   "source": [
    "df_pm25_traffic = pd.concat([pm25_city_grpby, df_traffic_city_grpby, df_industry_usa_t, df_air_transpose_country_grpby])\n",
    "df_pm25_traffic.head()"
   ]
  },
  {
   "cell_type": "code",
   "execution_count": 430,
   "metadata": {},
   "outputs": [
    {
     "data": {
      "image/png": "[encoded data removed]",
      "text/plain": [
       "<Figure size 576x432 with 1 Axes>"
      ]
     },
     "metadata": {},
     "output_type": "display_data"
    }
   ],
   "source": [
    "df_pm25_traffic_melt = pd.melt(df_pm25_traffic,id_vars=['Date', 'Type'], var_name='Value')\n",
    "df_pm25_traffic_melt.sort_values(by=['Date'],inplace=True)\n",
    "fig = plt.figure(figsize=(8,6))\n",
    "\n",
    "plt.title('Comparative Analysis of PM2.5 Pollutant with AirTraffic, Industry & CityTraffic')\n",
    "sns.lineplot(x='Date', \n",
    "             y='value',\n",
    "             hue='Type',\n",
    "             data=df_pm25_traffic_melt)\n",
    "plt.xlabel('Date')\n",
    "plt.ylabel('PM2.5 Level (µg/m3)/100 & Traffic Indicator')\n",
    "plt.xticks(rotation=80)\n",
    "\n",
    "plt.show()"
   ]
  },
  {
   "cell_type": "markdown",
   "metadata": {},
   "source": [
    "# Shaded line plotting of lockdown period of each city"
   ]
  },
  {
   "cell_type": "code",
   "execution_count": 432,
   "metadata": {},
   "outputs": [
    {
     "data": {
      "text/html": [
       "<div>\n",
       "<style scoped>\n",
       "    .dataframe tbody tr th:only-of-type {\n",
       "        vertical-align: middle;\n",
       "    }\n",
       "\n",
       "    .dataframe tbody tr th {\n",
       "        vertical-align: top;\n",
       "    }\n",
       "\n",
       "    .dataframe thead th {\n",
       "        text-align: right;\n",
       "    }\n",
       "</style>\n",
       "<table border=\"1\" class=\"dataframe\">\n",
       "  <thead>\n",
       "    <tr style=\"text-align: right;\">\n",
       "      <th></th>\n",
       "      <th>year</th>\n",
       "      <th>pm25</th>\n",
       "    </tr>\n",
       "    <tr>\n",
       "      <th>date</th>\n",
       "      <th></th>\n",
       "      <th></th>\n",
       "    </tr>\n",
       "  </thead>\n",
       "  <tbody>\n",
       "    <tr>\n",
       "      <th>2020-04-02</th>\n",
       "      <td>2020</td>\n",
       "      <td>20</td>\n",
       "    </tr>\n",
       "    <tr>\n",
       "      <th>2020-04-03</th>\n",
       "      <td>2020</td>\n",
       "      <td>14</td>\n",
       "    </tr>\n",
       "    <tr>\n",
       "      <th>2020-04-04</th>\n",
       "      <td>2020</td>\n",
       "      <td>13</td>\n",
       "    </tr>\n",
       "    <tr>\n",
       "      <th>2020-04-05</th>\n",
       "      <td>2020</td>\n",
       "      <td>14</td>\n",
       "    </tr>\n",
       "    <tr>\n",
       "      <th>2020-04-06</th>\n",
       "      <td>2020</td>\n",
       "      <td>41</td>\n",
       "    </tr>\n",
       "  </tbody>\n",
       "</table>\n",
       "</div>"
      ],
      "text/plain": [
       "            year  pm25\n",
       "date                  \n",
       "2020-04-02  2020    20\n",
       "2020-04-03  2020    14\n",
       "2020-04-04  2020    13\n",
       "2020-04-05  2020    14\n",
       "2020-04-06  2020    41"
      ]
     },
     "execution_count": 432,
     "metadata": {},
     "output_type": "execute_result"
    }
   ],
   "source": [
    "crit = (pm25_range['city'] == 'NewYork') \n",
    "pm25_city_2020 = pm25_range.loc[crit]\n",
    "pm25_city_2020.set_index('date', inplace=True)\n",
    "pm25_city_2020.sort_index()\n",
    "pm25_city_2020['year'] = pm25_city_2020['year'].astype(int)\n",
    "pm25_city_2020 = pm25_city_2020[['year','pm25']]\n",
    "pm25_city_2020.head()\n"
   ]
  },
  {
   "cell_type": "code",
   "execution_count": 435,
   "metadata": {},
   "outputs": [
    {
     "name": "stdout",
     "output_type": "stream",
     "text": [
      "Mean PM 2.5 concentration in year 2018 is 34.138888888888886\n",
      "Mean PM 2.5 concentration in year 2019 is 31.166666666666668\n",
      "Mean PM 2.5 concentration in year 2020 is 24.485714285714284\n"
     ]
    },
    {
     "data": {
      "image/png": "[encoded data removed]",
      "text/plain": [
       "<Figure size 1440x432 with 1 Axes>"
      ]
     },
     "metadata": {},
     "output_type": "display_data"
    }
   ],
   "source": [
    "def compare(years,start_date,end_date,data):\n",
    "    fig = plt.figure(figsize=(20,6))\n",
    "    fig.autofmt_xdate()\n",
    "    ax = fig.add_axes([0,0,1,1])\n",
    "    plt.setp(ax.get_xticklabels(), rotation=50, horizontalalignment='right', fontsize='x-small')\n",
    "    plt.title('New York: PM2.5 Level year 2018-19 during Lockdown')\n",
    "    data_arr = []\n",
    "    colors = ['seashell','peachpuff','lightcoral']\n",
    "    i = 0\n",
    "    for year in years:\n",
    "        temp_data = data.loc[f'{year}-{start_date}':f'{year}-{end_date}']\n",
    "        print(f'Mean PM 2.5 concentration in year {year} is',temp_data['pm25'].mean())\n",
    "        temp_data.index = temp_data.index.strftime('%m-%d')\n",
    "        data_list = temp_data.index.tolist()\n",
    "        data_list.sort(key=lambda date: datetime.strptime(date, \"%m-%d\"))\n",
    "        data_arr.append(temp_data)\n",
    "        ax.plot(data_list, temp_data['pm25'], marker='o', linestyle='-', label=f'{year}', color=colors[i])\n",
    "        ax.fill_between(data_list, temp_data['pm25'], interpolate=False,  color=colors[i])\n",
    "        i = i+1\n",
    "    ax.legend()\n",
    "compare(['2018','2019','2020'],'03-23','04-27',pm25_city_2020)"
   ]
  },
  {
   "cell_type": "code",
   "execution_count": null,
   "metadata": {},
   "outputs": [],
   "source": []
  }
 ],
 "metadata": {
  "colab": {
   "name": "256-DEMO.ipynb",
   "provenance": [],
   "version": "0.3.2"
  },
  "kernelspec": {
   "display_name": "Python 3",
   "language": "python",
   "name": "python3"
  },
  "language_info": {
   "codemirror_mode": {
    "name": "ipython",
    "version": 3
   },
   "file_extension": ".py",
   "mimetype": "text/x-python",
   "name": "python",
   "nbconvert_exporter": "python",
   "pygments_lexer": "ipython3",
   "version": "3.7.1"
  }
 },
 "nbformat": 4,
 "nbformat_minor": 1
}
